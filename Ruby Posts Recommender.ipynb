{
 "cells": [
  {
   "cell_type": "code",
   "execution_count": 1,
   "metadata": {
    "collapsed": true
   },
   "outputs": [],
   "source": [
    "import pandas as pd\n",
    "import numpy as np"
   ]
  },
  {
   "cell_type": "markdown",
   "metadata": {
    "collapsed": true
   },
   "source": [
    "### Users Table"
   ]
  },
  {
   "cell_type": "code",
   "execution_count": 3,
   "metadata": {},
   "outputs": [
    {
     "data": {
      "text/html": [
       "<div>\n",
       "<style>\n",
       "    .dataframe thead tr:only-child th {\n",
       "        text-align: right;\n",
       "    }\n",
       "\n",
       "    .dataframe thead th {\n",
       "        text-align: left;\n",
       "    }\n",
       "\n",
       "    .dataframe tbody tr th {\n",
       "        vertical-align: top;\n",
       "    }\n",
       "</style>\n",
       "<table border=\"1\" class=\"dataframe\">\n",
       "  <thead>\n",
       "    <tr style=\"text-align: right;\">\n",
       "      <th></th>\n",
       "      <th>user_id</th>\n",
       "      <th>username</th>\n",
       "      <th>email</th>\n",
       "      <th>short_bio</th>\n",
       "    </tr>\n",
       "  </thead>\n",
       "  <tbody>\n",
       "    <tr>\n",
       "      <th>0</th>\n",
       "      <td>1</td>\n",
       "      <td>eniayomi</td>\n",
       "      <td>oluwaseyieniayomi@gmail.com</td>\n",
       "      <td>Software Developer | DevOPs Engineer</td>\n",
       "    </tr>\n",
       "    <tr>\n",
       "      <th>1</th>\n",
       "      <td>2</td>\n",
       "      <td>DMatrix</td>\n",
       "      <td>okoelijah@gmail.com</td>\n",
       "      <td>Web Developer</td>\n",
       "    </tr>\n",
       "    <tr>\n",
       "      <th>2</th>\n",
       "      <td>3</td>\n",
       "      <td>jeff.ogah</td>\n",
       "      <td>jeff.ogah@gmail.com</td>\n",
       "      <td>Front End Developer | React Developer | Mentor...</td>\n",
       "    </tr>\n",
       "    <tr>\n",
       "      <th>3</th>\n",
       "      <td>4</td>\n",
       "      <td>nathan</td>\n",
       "      <td>nathanoluwaseyi@gmail.com</td>\n",
       "      <td>| Software Developer | DevOps Engineer | @linu...</td>\n",
       "    </tr>\n",
       "    <tr>\n",
       "      <th>4</th>\n",
       "      <td>5</td>\n",
       "      <td>lamar</td>\n",
       "      <td>paulchibiukeigweze@gmail.com</td>\n",
       "      <td>I Am lamar and you don't think am real?</td>\n",
       "    </tr>\n",
       "  </tbody>\n",
       "</table>\n",
       "</div>"
      ],
      "text/plain": [
       "   user_id   username                         email  \\\n",
       "0        1   eniayomi   oluwaseyieniayomi@gmail.com   \n",
       "1        2    DMatrix           okoelijah@gmail.com   \n",
       "2        3  jeff.ogah           jeff.ogah@gmail.com   \n",
       "3        4     nathan     nathanoluwaseyi@gmail.com   \n",
       "4        5      lamar  paulchibiukeigweze@gmail.com   \n",
       "\n",
       "                                           short_bio  \n",
       "0               Software Developer | DevOPs Engineer  \n",
       "1                                      Web Developer  \n",
       "2  Front End Developer | React Developer | Mentor...  \n",
       "3  | Software Developer | DevOps Engineer | @linu...  \n",
       "4            I Am lamar and you don't think am real?  "
      ]
     },
     "execution_count": 3,
     "metadata": {},
     "output_type": "execute_result"
    }
   ],
   "source": [
    "users_names = ['user_id', 'name', 'username', 'email', 'image', 'provider', 'provider_id', 'password', 'remember_token', 'created_at', 'updated_at', 'short_bio']\n",
    "users = pd.read_csv('users.csv',names = users_names)\n",
    "users.drop(['password', 'remember_token', 'provider', 'provider_id','image','created_at','updated_at','name'], axis=1, inplace=True)\n",
    "users.head()"
   ]
  },
  {
   "cell_type": "markdown",
   "metadata": {
    "collapsed": true
   },
   "source": [
    "### Posts Table"
   ]
  },
  {
   "cell_type": "code",
   "execution_count": 5,
   "metadata": {},
   "outputs": [
    {
     "data": {
      "text/html": [
       "<div>\n",
       "<style>\n",
       "    .dataframe thead tr:only-child th {\n",
       "        text-align: right;\n",
       "    }\n",
       "\n",
       "    .dataframe thead th {\n",
       "        text-align: left;\n",
       "    }\n",
       "\n",
       "    .dataframe tbody tr th {\n",
       "        vertical-align: top;\n",
       "    }\n",
       "</style>\n",
       "<table border=\"1\" class=\"dataframe\">\n",
       "  <thead>\n",
       "    <tr style=\"text-align: right;\">\n",
       "      <th></th>\n",
       "      <th>post_id</th>\n",
       "      <th>user_id</th>\n",
       "      <th>title</th>\n",
       "      <th>tags</th>\n",
       "    </tr>\n",
       "  </thead>\n",
       "  <tbody>\n",
       "    <tr>\n",
       "      <th>0</th>\n",
       "      <td>1</td>\n",
       "      <td>2077</td>\n",
       "      <td>What i have learnt so far on HTML</td>\n",
       "      <td>NaN</td>\n",
       "    </tr>\n",
       "    <tr>\n",
       "      <th>1</th>\n",
       "      <td>2</td>\n",
       "      <td>1719</td>\n",
       "      <td>HTML BEGINS HERE</td>\n",
       "      <td>Technology</td>\n",
       "    </tr>\n",
       "    <tr>\n",
       "      <th>2</th>\n",
       "      <td>4</td>\n",
       "      <td>1310</td>\n",
       "      <td>My Laziness In The Open</td>\n",
       "      <td>NaN</td>\n",
       "    </tr>\n",
       "    <tr>\n",
       "      <th>3</th>\n",
       "      <td>6</td>\n",
       "      <td>1787</td>\n",
       "      <td>MY TASK 2</td>\n",
       "      <td>NaN</td>\n",
       "    </tr>\n",
       "    <tr>\n",
       "      <th>4</th>\n",
       "      <td>7</td>\n",
       "      <td>167</td>\n",
       "      <td>Task 2</td>\n",
       "      <td>NaN</td>\n",
       "    </tr>\n",
       "  </tbody>\n",
       "</table>\n",
       "</div>"
      ],
      "text/plain": [
       "   post_id  user_id                              title        tags\n",
       "0        1     2077  What i have learnt so far on HTML         NaN\n",
       "1        2     1719                   HTML BEGINS HERE  Technology\n",
       "2        4     1310            My Laziness In The Open         NaN\n",
       "3        6     1787                          MY TASK 2         NaN\n",
       "4        7      167                             Task 2         NaN"
      ]
     },
     "execution_count": 5,
     "metadata": {},
     "output_type": "execute_result"
    }
   ],
   "source": [
    "posts_column =['post_id', 'user_id','title', 'content', 'tags', 'slugs', 'created_at', 'updated_at', 'image', 'status_id', 'action', 'posts_id']\n",
    "posts = pd.read_csv('posts.csv', names=posts_column)\n",
    "posts.drop(['content','slugs','image','updated_at','created_at','status_id','action','posts_id'], axis = 1, inplace =True)\n",
    "posts.head()"
   ]
  },
  {
   "cell_type": "markdown",
   "metadata": {
    "collapsed": true
   },
   "source": [
    "### Following Table"
   ]
  },
  {
   "cell_type": "code",
   "execution_count": 7,
   "metadata": {},
   "outputs": [
    {
     "data": {
      "text/html": [
       "<div>\n",
       "<style>\n",
       "    .dataframe thead tr:only-child th {\n",
       "        text-align: right;\n",
       "    }\n",
       "\n",
       "    .dataframe thead th {\n",
       "        text-align: left;\n",
       "    }\n",
       "\n",
       "    .dataframe tbody tr th {\n",
       "        vertical-align: top;\n",
       "    }\n",
       "</style>\n",
       "<table border=\"1\" class=\"dataframe\">\n",
       "  <thead>\n",
       "    <tr style=\"text-align: right;\">\n",
       "      <th></th>\n",
       "      <th>user_id</th>\n",
       "      <th>follower_id</th>\n",
       "    </tr>\n",
       "  </thead>\n",
       "  <tbody>\n",
       "    <tr>\n",
       "      <th>0</th>\n",
       "      <td>3</td>\n",
       "      <td>6</td>\n",
       "    </tr>\n",
       "    <tr>\n",
       "      <th>1</th>\n",
       "      <td>6</td>\n",
       "      <td>3</td>\n",
       "    </tr>\n",
       "    <tr>\n",
       "      <th>2</th>\n",
       "      <td>3</td>\n",
       "      <td>2</td>\n",
       "    </tr>\n",
       "    <tr>\n",
       "      <th>3</th>\n",
       "      <td>3</td>\n",
       "      <td>7</td>\n",
       "    </tr>\n",
       "    <tr>\n",
       "      <th>4</th>\n",
       "      <td>7</td>\n",
       "      <td>2</td>\n",
       "    </tr>\n",
       "  </tbody>\n",
       "</table>\n",
       "</div>"
      ],
      "text/plain": [
       "   user_id  follower_id\n",
       "0        3            6\n",
       "1        6            3\n",
       "2        3            2\n",
       "3        3            7\n",
       "4        7            2"
      ]
     },
     "execution_count": 7,
     "metadata": {},
     "output_type": "execute_result"
    }
   ],
   "source": [
    "following_column =['user_id', 'follower_id', 'status']\n",
    "following = pd.read_csv('following.csv', names=following_column)\n",
    "following.drop(['status'],axis =1, inplace=True)\n",
    "following.head()"
   ]
  },
  {
   "cell_type": "markdown",
   "metadata": {
    "collapsed": true
   },
   "source": [
    "### Notifications Table"
   ]
  },
  {
   "cell_type": "code",
   "execution_count": 9,
   "metadata": {},
   "outputs": [
    {
     "data": {
      "text/html": [
       "<div>\n",
       "<style>\n",
       "    .dataframe thead tr:only-child th {\n",
       "        text-align: right;\n",
       "    }\n",
       "\n",
       "    .dataframe thead th {\n",
       "        text-align: left;\n",
       "    }\n",
       "\n",
       "    .dataframe tbody tr th {\n",
       "        vertical-align: top;\n",
       "    }\n",
       "</style>\n",
       "<table border=\"1\" class=\"dataframe\">\n",
       "  <thead>\n",
       "    <tr style=\"text-align: right;\">\n",
       "      <th></th>\n",
       "      <th>post_id</th>\n",
       "      <th>sender_id</th>\n",
       "      <th>action</th>\n",
       "    </tr>\n",
       "  </thead>\n",
       "  <tbody>\n",
       "    <tr>\n",
       "      <th>0</th>\n",
       "      <td>NaN</td>\n",
       "      <td>4</td>\n",
       "      <td>Followed</td>\n",
       "    </tr>\n",
       "    <tr>\n",
       "      <th>1</th>\n",
       "      <td>NaN</td>\n",
       "      <td>1</td>\n",
       "      <td>Followed</td>\n",
       "    </tr>\n",
       "    <tr>\n",
       "      <th>2</th>\n",
       "      <td>NaN</td>\n",
       "      <td>3</td>\n",
       "      <td>Followed</td>\n",
       "    </tr>\n",
       "    <tr>\n",
       "      <th>3</th>\n",
       "      <td>NaN</td>\n",
       "      <td>1</td>\n",
       "      <td>Followed</td>\n",
       "    </tr>\n",
       "    <tr>\n",
       "      <th>4</th>\n",
       "      <td>278.0</td>\n",
       "      <td>1</td>\n",
       "      <td>Commented</td>\n",
       "    </tr>\n",
       "  </tbody>\n",
       "</table>\n",
       "</div>"
      ],
      "text/plain": [
       "   post_id  sender_id     action\n",
       "0      NaN          4   Followed\n",
       "1      NaN          1   Followed\n",
       "2      NaN          3   Followed\n",
       "3      NaN          1   Followed\n",
       "4    278.0          1  Commented"
      ]
     },
     "execution_count": 9,
     "metadata": {},
     "output_type": "execute_result"
    }
   ],
   "source": [
    "notification_column = ['not_id','post_id', 'parent_comment_id','comment', 'sender_id','user_id','status','action','type','created_at','updated_at']\n",
    "notifications = pd.read_csv('notifications.csv', names=notification_column)\n",
    "notifications.drop(['not_id','user_id','parent_comment_id','status','comment','created_at','updated_at','type',],axis=1,inplace=True)\n",
    "notifications.head()"
   ]
  },
  {
   "cell_type": "markdown",
   "metadata": {
    "collapsed": true
   },
   "source": [
    "### Merging the Users to their posts"
   ]
  },
  {
   "cell_type": "code",
   "execution_count": 11,
   "metadata": {},
   "outputs": [
    {
     "data": {
      "text/html": [
       "<div>\n",
       "<style>\n",
       "    .dataframe thead tr:only-child th {\n",
       "        text-align: right;\n",
       "    }\n",
       "\n",
       "    .dataframe thead th {\n",
       "        text-align: left;\n",
       "    }\n",
       "\n",
       "    .dataframe tbody tr th {\n",
       "        vertical-align: top;\n",
       "    }\n",
       "</style>\n",
       "<table border=\"1\" class=\"dataframe\">\n",
       "  <thead>\n",
       "    <tr style=\"text-align: right;\">\n",
       "      <th></th>\n",
       "      <th>post_id</th>\n",
       "      <th>user_id</th>\n",
       "      <th>title</th>\n",
       "      <th>tags</th>\n",
       "      <th>username</th>\n",
       "      <th>email</th>\n",
       "      <th>short_bio</th>\n",
       "    </tr>\n",
       "  </thead>\n",
       "  <tbody>\n",
       "    <tr>\n",
       "      <th>0</th>\n",
       "      <td>1</td>\n",
       "      <td>2077</td>\n",
       "      <td>What i have learnt so far on HTML</td>\n",
       "      <td>NaN</td>\n",
       "      <td>obiako4u53</td>\n",
       "      <td>obiako4u53@gmail.com</td>\n",
       "      <td>I am a person of Growth mindset. I believe i c...</td>\n",
       "    </tr>\n",
       "    <tr>\n",
       "      <th>1</th>\n",
       "      <td>2</td>\n",
       "      <td>1719</td>\n",
       "      <td>HTML BEGINS HERE</td>\n",
       "      <td>Technology</td>\n",
       "      <td>kolawolejohn</td>\n",
       "      <td>kolawole.oajohn@gmail.com</td>\n",
       "      <td>I am Kolawole Adebayo Ogunfowokan, I am a trai...</td>\n",
       "    </tr>\n",
       "    <tr>\n",
       "      <th>2</th>\n",
       "      <td>4</td>\n",
       "      <td>1310</td>\n",
       "      <td>My Laziness In The Open</td>\n",
       "      <td>NaN</td>\n",
       "      <td>Oladele</td>\n",
       "      <td>makanjuolaoladele@gmail.com</td>\n",
       "      <td>Front-End enthusiast</td>\n",
       "    </tr>\n",
       "    <tr>\n",
       "      <th>3</th>\n",
       "      <td>6</td>\n",
       "      <td>1787</td>\n",
       "      <td>MY TASK 2</td>\n",
       "      <td>NaN</td>\n",
       "      <td>emmanuel.ulaka16</td>\n",
       "      <td>emmanuel.ulaka16@gmail.com</td>\n",
       "      <td>NaN</td>\n",
       "    </tr>\n",
       "    <tr>\n",
       "      <th>4</th>\n",
       "      <td>11</td>\n",
       "      <td>1787</td>\n",
       "      <td>MY TASK 2</td>\n",
       "      <td>html</td>\n",
       "      <td>emmanuel.ulaka16</td>\n",
       "      <td>emmanuel.ulaka16@gmail.com</td>\n",
       "      <td>NaN</td>\n",
       "    </tr>\n",
       "  </tbody>\n",
       "</table>\n",
       "</div>"
      ],
      "text/plain": [
       "   post_id  user_id                              title        tags  \\\n",
       "0        1     2077  What i have learnt so far on HTML         NaN   \n",
       "1        2     1719                   HTML BEGINS HERE  Technology   \n",
       "2        4     1310            My Laziness In The Open         NaN   \n",
       "3        6     1787                          MY TASK 2         NaN   \n",
       "4       11     1787                          MY TASK 2        html   \n",
       "\n",
       "           username                        email  \\\n",
       "0        obiako4u53         obiako4u53@gmail.com   \n",
       "1      kolawolejohn    kolawole.oajohn@gmail.com   \n",
       "2           Oladele  makanjuolaoladele@gmail.com   \n",
       "3  emmanuel.ulaka16   emmanuel.ulaka16@gmail.com   \n",
       "4  emmanuel.ulaka16   emmanuel.ulaka16@gmail.com   \n",
       "\n",
       "                                           short_bio  \n",
       "0  I am a person of Growth mindset. I believe i c...  \n",
       "1  I am Kolawole Adebayo Ogunfowokan, I am a trai...  \n",
       "2                               Front-End enthusiast  \n",
       "3                                                NaN  \n",
       "4                                                NaN  "
      ]
     },
     "execution_count": 11,
     "metadata": {},
     "output_type": "execute_result"
    }
   ],
   "source": [
    "df = pd.merge(posts,users,on='user_id')\n",
    "df.head()"
   ]
  },
  {
   "cell_type": "code",
   "execution_count": 12,
   "metadata": {},
   "outputs": [
    {
     "data": {
      "text/html": [
       "<div>\n",
       "<style>\n",
       "    .dataframe thead tr:only-child th {\n",
       "        text-align: right;\n",
       "    }\n",
       "\n",
       "    .dataframe thead th {\n",
       "        text-align: left;\n",
       "    }\n",
       "\n",
       "    .dataframe tbody tr th {\n",
       "        vertical-align: top;\n",
       "    }\n",
       "</style>\n",
       "<table border=\"1\" class=\"dataframe\">\n",
       "  <thead>\n",
       "    <tr style=\"text-align: right;\">\n",
       "      <th></th>\n",
       "      <th>no_of_posts</th>\n",
       "    </tr>\n",
       "    <tr>\n",
       "      <th>user_id</th>\n",
       "      <th></th>\n",
       "    </tr>\n",
       "  </thead>\n",
       "  <tbody>\n",
       "    <tr>\n",
       "      <th>1</th>\n",
       "      <td>4</td>\n",
       "    </tr>\n",
       "    <tr>\n",
       "      <th>2</th>\n",
       "      <td>12</td>\n",
       "    </tr>\n",
       "    <tr>\n",
       "      <th>3</th>\n",
       "      <td>15</td>\n",
       "    </tr>\n",
       "    <tr>\n",
       "      <th>4</th>\n",
       "      <td>2</td>\n",
       "    </tr>\n",
       "    <tr>\n",
       "      <th>5</th>\n",
       "      <td>1</td>\n",
       "    </tr>\n",
       "  </tbody>\n",
       "</table>\n",
       "</div>"
      ],
      "text/plain": [
       "         no_of_posts\n",
       "user_id             \n",
       "1                  4\n",
       "2                 12\n",
       "3                 15\n",
       "4                  2\n",
       "5                  1"
      ]
     },
     "execution_count": 12,
     "metadata": {},
     "output_type": "execute_result"
    }
   ],
   "source": [
    "postings = pd.DataFrame(df.groupby('user_id')['post_id'].count())\n",
    "postings['no_of_posts'] = pd.DataFrame(df.groupby('user_id')['post_id'].count())\n",
    "postings.drop(['post_id'],axis=1,inplace=True)\n",
    "postings.head()"
   ]
  },
  {
   "cell_type": "markdown",
   "metadata": {
    "collapsed": true
   },
   "source": [
    "### Merging Posts to Notifications to determine actions taken"
   ]
  },
  {
   "cell_type": "code",
   "execution_count": 14,
   "metadata": {},
   "outputs": [
    {
     "data": {
      "text/html": [
       "<div>\n",
       "<style>\n",
       "    .dataframe thead tr:only-child th {\n",
       "        text-align: right;\n",
       "    }\n",
       "\n",
       "    .dataframe thead th {\n",
       "        text-align: left;\n",
       "    }\n",
       "\n",
       "    .dataframe tbody tr th {\n",
       "        vertical-align: top;\n",
       "    }\n",
       "</style>\n",
       "<table border=\"1\" class=\"dataframe\">\n",
       "  <thead>\n",
       "    <tr style=\"text-align: right;\">\n",
       "      <th></th>\n",
       "      <th>post_id</th>\n",
       "      <th>user_id</th>\n",
       "      <th>title</th>\n",
       "      <th>tags</th>\n",
       "      <th>sender_id</th>\n",
       "      <th>action</th>\n",
       "    </tr>\n",
       "  </thead>\n",
       "  <tbody>\n",
       "    <tr>\n",
       "      <th>0</th>\n",
       "      <td>143</td>\n",
       "      <td>2191</td>\n",
       "      <td>What you have learned so far</td>\n",
       "      <td>NaN</td>\n",
       "      <td>2191</td>\n",
       "      <td>Commented</td>\n",
       "    </tr>\n",
       "    <tr>\n",
       "      <th>1</th>\n",
       "      <td>278</td>\n",
       "      <td>4</td>\n",
       "      <td>Good Afternoon People</td>\n",
       "      <td>NaN</td>\n",
       "      <td>1</td>\n",
       "      <td>Commented</td>\n",
       "    </tr>\n",
       "    <tr>\n",
       "      <th>2</th>\n",
       "      <td>353</td>\n",
       "      <td>7</td>\n",
       "      <td>TWO YEARS IN THE TRENCHES BUILDING HOTELS.NG</td>\n",
       "      <td>NaN</td>\n",
       "      <td>1</td>\n",
       "      <td>Love</td>\n",
       "    </tr>\n",
       "    <tr>\n",
       "      <th>3</th>\n",
       "      <td>355</td>\n",
       "      <td>7</td>\n",
       "      <td>HOW TO AVOID BEING A ONE-HIT WONDER</td>\n",
       "      <td>NaN</td>\n",
       "      <td>1</td>\n",
       "      <td>Like</td>\n",
       "    </tr>\n",
       "    <tr>\n",
       "      <th>4</th>\n",
       "      <td>355</td>\n",
       "      <td>7</td>\n",
       "      <td>HOW TO AVOID BEING A ONE-HIT WONDER</td>\n",
       "      <td>NaN</td>\n",
       "      <td>1</td>\n",
       "      <td>Replied</td>\n",
       "    </tr>\n",
       "  </tbody>\n",
       "</table>\n",
       "</div>"
      ],
      "text/plain": [
       "  post_id  user_id                                         title tags  \\\n",
       "0     143     2191                  What you have learned so far  NaN   \n",
       "1     278        4                         Good Afternoon People  NaN   \n",
       "2     353        7  TWO YEARS IN THE TRENCHES BUILDING HOTELS.NG  NaN   \n",
       "3     355        7           HOW TO AVOID BEING A ONE-HIT WONDER  NaN   \n",
       "4     355        7           HOW TO AVOID BEING A ONE-HIT WONDER  NaN   \n",
       "\n",
       "   sender_id     action  \n",
       "0       2191  Commented  \n",
       "1          1  Commented  \n",
       "2          1       Love  \n",
       "3          1       Like  \n",
       "4          1    Replied  "
      ]
     },
     "execution_count": 14,
     "metadata": {},
     "output_type": "execute_result"
    }
   ],
   "source": [
    "main = pd.merge(posts,notifications,on='post_id')\n",
    "main.head()"
   ]
  },
  {
   "cell_type": "code",
   "execution_count": 15,
   "metadata": {},
   "outputs": [
    {
     "name": "stdout",
     "output_type": "stream",
     "text": [
      "<class 'pandas.core.frame.DataFrame'>\n",
      "Int64Index: 60 entries, 0 to 59\n",
      "Data columns (total 6 columns):\n",
      "post_id      60 non-null object\n",
      "user_id      60 non-null int64\n",
      "title        60 non-null object\n",
      "tags         5 non-null object\n",
      "sender_id    60 non-null int64\n",
      "action       60 non-null object\n",
      "dtypes: int64(2), object(4)\n",
      "memory usage: 3.3+ KB\n"
     ]
    }
   ],
   "source": [
    "main.info()"
   ]
  },
  {
   "cell_type": "markdown",
   "metadata": {
    "collapsed": true
   },
   "source": [
    "### Checking number of actions per post"
   ]
  },
  {
   "cell_type": "code",
   "execution_count": 17,
   "metadata": {
    "collapsed": true
   },
   "outputs": [],
   "source": [
    "post_ids=main['post_id'].value_counts().index\n",
    "actions=main['post_id'].value_counts().values\n",
    "post_counts ={'post_id':post_ids,'no_of_actions':actions}\n",
    "post_counts = pd.DataFrame(post_counts)"
   ]
  },
  {
   "cell_type": "markdown",
   "metadata": {
    "collapsed": true
   },
   "source": [
    "### Converting actions to numeric ratings"
   ]
  },
  {
   "cell_type": "markdown",
   "metadata": {},
   "source": [
    "This will enable us measure the amount of response a user gives to a particular post. It kind of acts like rating an app or a post or any such like actions   "
   ]
  },
  {
   "cell_type": "code",
   "execution_count": 19,
   "metadata": {},
   "outputs": [
    {
     "data": {
      "text/plain": [
       "Commented    25\n",
       "Like         15\n",
       "Love         14\n",
       "Replied       6\n",
       "Name: action, dtype: int64"
      ]
     },
     "execution_count": 19,
     "metadata": {},
     "output_type": "execute_result"
    }
   ],
   "source": [
    "main['action'].value_counts()"
   ]
  },
  {
   "cell_type": "code",
   "execution_count": 20,
   "metadata": {
    "collapsed": true
   },
   "outputs": [],
   "source": [
    "def conv_actions():\n",
    "    action = []\n",
    "    for i in main['action']: \n",
    "        if i == 'Replied':     # If a user replied a comment on a post, it gets the highest traffic/interaction\n",
    "            action.append(4)\n",
    "        elif i == 'Commented': # If a user comments on a post, a considerable amount of interaction has occured\n",
    "            action.append(3)\n",
    "        elif i == 'Love':      # If a user reacts with love to a post, it showes a high likeness but no measurable interaction occured\n",
    "            action.append(2)\n",
    "        else:\n",
    "            action.append(1)   # If a user reacts with like, we can consider it the least reaction to a post\n",
    "    return action"
   ]
  },
  {
   "cell_type": "code",
   "execution_count": 21,
   "metadata": {
    "collapsed": true
   },
   "outputs": [],
   "source": [
    "actions = conv_actions()\n",
    "actions_= pd.DataFrame(actions)\n",
    "main = pd.concat([main, actions_], axis=1)\n",
    "main['rated_action'] = main[0]\n",
    "main.drop(['user_id','tags','action',0], axis=1, inplace=True)"
   ]
  },
  {
   "cell_type": "code",
   "execution_count": 89,
   "metadata": {},
   "outputs": [
    {
     "data": {
      "text/html": [
       "<div>\n",
       "<style>\n",
       "    .dataframe thead tr:only-child th {\n",
       "        text-align: right;\n",
       "    }\n",
       "\n",
       "    .dataframe thead th {\n",
       "        text-align: left;\n",
       "    }\n",
       "\n",
       "    .dataframe tbody tr th {\n",
       "        vertical-align: top;\n",
       "    }\n",
       "</style>\n",
       "<table border=\"1\" class=\"dataframe\">\n",
       "  <thead>\n",
       "    <tr style=\"text-align: right;\">\n",
       "      <th></th>\n",
       "      <th>post_id</th>\n",
       "      <th>title</th>\n",
       "      <th>sender_id</th>\n",
       "      <th>rated_action</th>\n",
       "    </tr>\n",
       "  </thead>\n",
       "  <tbody>\n",
       "    <tr>\n",
       "      <th>0</th>\n",
       "      <td>143</td>\n",
       "      <td>What you have learned so far</td>\n",
       "      <td>2191</td>\n",
       "      <td>3</td>\n",
       "    </tr>\n",
       "    <tr>\n",
       "      <th>1</th>\n",
       "      <td>278</td>\n",
       "      <td>Good Afternoon People</td>\n",
       "      <td>1</td>\n",
       "      <td>3</td>\n",
       "    </tr>\n",
       "    <tr>\n",
       "      <th>2</th>\n",
       "      <td>353</td>\n",
       "      <td>TWO YEARS IN THE TRENCHES BUILDING HOTELS.NG</td>\n",
       "      <td>1</td>\n",
       "      <td>2</td>\n",
       "    </tr>\n",
       "    <tr>\n",
       "      <th>3</th>\n",
       "      <td>355</td>\n",
       "      <td>HOW TO AVOID BEING A ONE-HIT WONDER</td>\n",
       "      <td>1</td>\n",
       "      <td>1</td>\n",
       "    </tr>\n",
       "    <tr>\n",
       "      <th>4</th>\n",
       "      <td>355</td>\n",
       "      <td>HOW TO AVOID BEING A ONE-HIT WONDER</td>\n",
       "      <td>1</td>\n",
       "      <td>4</td>\n",
       "    </tr>\n",
       "    <tr>\n",
       "      <th>5</th>\n",
       "      <td>360</td>\n",
       "      <td>EVALUATING STARTUP IDEAS</td>\n",
       "      <td>3</td>\n",
       "      <td>3</td>\n",
       "    </tr>\n",
       "    <tr>\n",
       "      <th>6</th>\n",
       "      <td>360</td>\n",
       "      <td>EVALUATING STARTUP IDEAS</td>\n",
       "      <td>4</td>\n",
       "      <td>3</td>\n",
       "    </tr>\n",
       "    <tr>\n",
       "      <th>7</th>\n",
       "      <td>360</td>\n",
       "      <td>EVALUATING STARTUP IDEAS</td>\n",
       "      <td>4</td>\n",
       "      <td>4</td>\n",
       "    </tr>\n",
       "    <tr>\n",
       "      <th>8</th>\n",
       "      <td>371</td>\n",
       "      <td>Lucid is back</td>\n",
       "      <td>9</td>\n",
       "      <td>3</td>\n",
       "    </tr>\n",
       "    <tr>\n",
       "      <th>9</th>\n",
       "      <td>371</td>\n",
       "      <td>Lucid is back</td>\n",
       "      <td>6</td>\n",
       "      <td>3</td>\n",
       "    </tr>\n",
       "    <tr>\n",
       "      <th>10</th>\n",
       "      <td>371</td>\n",
       "      <td>Lucid is back</td>\n",
       "      <td>6</td>\n",
       "      <td>3</td>\n",
       "    </tr>\n",
       "    <tr>\n",
       "      <th>11</th>\n",
       "      <td>371</td>\n",
       "      <td>Lucid is back</td>\n",
       "      <td>489</td>\n",
       "      <td>3</td>\n",
       "    </tr>\n",
       "    <tr>\n",
       "      <th>12</th>\n",
       "      <td>371</td>\n",
       "      <td>Lucid is back</td>\n",
       "      <td>550</td>\n",
       "      <td>3</td>\n",
       "    </tr>\n",
       "    <tr>\n",
       "      <th>13</th>\n",
       "      <td>371</td>\n",
       "      <td>Lucid is back</td>\n",
       "      <td>352</td>\n",
       "      <td>3</td>\n",
       "    </tr>\n",
       "    <tr>\n",
       "      <th>14</th>\n",
       "      <td>375</td>\n",
       "      <td>My Internship Journey So Far</td>\n",
       "      <td>352</td>\n",
       "      <td>3</td>\n",
       "    </tr>\n",
       "    <tr>\n",
       "      <th>15</th>\n",
       "      <td>439</td>\n",
       "      <td>CEO -- Story so Far</td>\n",
       "      <td>1340</td>\n",
       "      <td>3</td>\n",
       "    </tr>\n",
       "    <tr>\n",
       "      <th>16</th>\n",
       "      <td>439</td>\n",
       "      <td>CEO -- Story so Far</td>\n",
       "      <td>4</td>\n",
       "      <td>3</td>\n",
       "    </tr>\n",
       "    <tr>\n",
       "      <th>17</th>\n",
       "      <td>439</td>\n",
       "      <td>CEO -- Story so Far</td>\n",
       "      <td>3</td>\n",
       "      <td>3</td>\n",
       "    </tr>\n",
       "    <tr>\n",
       "      <th>18</th>\n",
       "      <td>983</td>\n",
       "      <td>A CHINESE VILLAGER WHO SELLS MORE SOFTWARE DAI...</td>\n",
       "      <td>4</td>\n",
       "      <td>1</td>\n",
       "    </tr>\n",
       "    <tr>\n",
       "      <th>19</th>\n",
       "      <td>983</td>\n",
       "      <td>A CHINESE VILLAGER WHO SELLS MORE SOFTWARE DAI...</td>\n",
       "      <td>4</td>\n",
       "      <td>2</td>\n",
       "    </tr>\n",
       "  </tbody>\n",
       "</table>\n",
       "</div>"
      ],
      "text/plain": [
       "   post_id                                              title  sender_id  \\\n",
       "0      143                       What you have learned so far       2191   \n",
       "1      278                              Good Afternoon People          1   \n",
       "2      353       TWO YEARS IN THE TRENCHES BUILDING HOTELS.NG          1   \n",
       "3      355                HOW TO AVOID BEING A ONE-HIT WONDER          1   \n",
       "4      355                HOW TO AVOID BEING A ONE-HIT WONDER          1   \n",
       "5      360                           EVALUATING STARTUP IDEAS          3   \n",
       "6      360                           EVALUATING STARTUP IDEAS          4   \n",
       "7      360                           EVALUATING STARTUP IDEAS          4   \n",
       "8      371                                      Lucid is back          9   \n",
       "9      371                                      Lucid is back          6   \n",
       "10     371                                      Lucid is back          6   \n",
       "11     371                                      Lucid is back        489   \n",
       "12     371                                      Lucid is back        550   \n",
       "13     371                                      Lucid is back        352   \n",
       "14     375                       My Internship Journey So Far        352   \n",
       "15     439                                CEO -- Story so Far       1340   \n",
       "16     439                                CEO -- Story so Far          4   \n",
       "17     439                                CEO -- Story so Far          3   \n",
       "18     983  A CHINESE VILLAGER WHO SELLS MORE SOFTWARE DAI...          4   \n",
       "19     983  A CHINESE VILLAGER WHO SELLS MORE SOFTWARE DAI...          4   \n",
       "\n",
       "    rated_action  \n",
       "0              3  \n",
       "1              3  \n",
       "2              2  \n",
       "3              1  \n",
       "4              4  \n",
       "5              3  \n",
       "6              3  \n",
       "7              4  \n",
       "8              3  \n",
       "9              3  \n",
       "10             3  \n",
       "11             3  \n",
       "12             3  \n",
       "13             3  \n",
       "14             3  \n",
       "15             3  \n",
       "16             3  \n",
       "17             3  \n",
       "18             1  \n",
       "19             2  "
      ]
     },
     "execution_count": 89,
     "metadata": {},
     "output_type": "execute_result"
    }
   ],
   "source": [
    "main.head(20)"
   ]
  },
  {
   "cell_type": "code",
   "execution_count": null,
   "metadata": {
    "collapsed": true
   },
   "outputs": [],
   "source": []
  },
  {
   "cell_type": "code",
   "execution_count": null,
   "metadata": {
    "collapsed": true
   },
   "outputs": [],
   "source": []
  },
  {
   "cell_type": "code",
   "execution_count": null,
   "metadata": {
    "collapsed": true
   },
   "outputs": [],
   "source": []
  },
  {
   "cell_type": "code",
   "execution_count": null,
   "metadata": {
    "collapsed": true
   },
   "outputs": [],
   "source": []
  },
  {
   "cell_type": "code",
   "execution_count": 24,
   "metadata": {},
   "outputs": [
    {
     "data": {
      "text/plain": [
       "Index(['rated_action'], dtype='object')"
      ]
     },
     "execution_count": 24,
     "metadata": {},
     "output_type": "execute_result"
    }
   ],
   "source": [
    "# This eliminates duplicate posts and at the same time preserves its effect in the data by computing its mean. \n",
    "ratings = pd.DataFrame(main.groupby('title')['rated_action'].mean())\n",
    "ratings.columns"
   ]
  },
  {
   "cell_type": "code",
   "execution_count": 26,
   "metadata": {},
   "outputs": [
    {
     "data": {
      "text/html": [
       "<div>\n",
       "<style>\n",
       "    .dataframe thead tr:only-child th {\n",
       "        text-align: right;\n",
       "    }\n",
       "\n",
       "    .dataframe thead th {\n",
       "        text-align: left;\n",
       "    }\n",
       "\n",
       "    .dataframe tbody tr th {\n",
       "        vertical-align: top;\n",
       "    }\n",
       "</style>\n",
       "<table border=\"1\" class=\"dataframe\">\n",
       "  <thead>\n",
       "    <tr style=\"text-align: right;\">\n",
       "      <th></th>\n",
       "      <th>rated_action</th>\n",
       "      <th>num of ratings</th>\n",
       "    </tr>\n",
       "    <tr>\n",
       "      <th>title</th>\n",
       "      <th></th>\n",
       "      <th></th>\n",
       "    </tr>\n",
       "  </thead>\n",
       "  <tbody>\n",
       "    <tr>\n",
       "      <th>A CHINESE VILLAGER WHO SELLS MORE SOFTWARE DAILY THAN YOU DO</th>\n",
       "      <td>1.500000</td>\n",
       "      <td>2</td>\n",
       "    </tr>\n",
       "    <tr>\n",
       "      <th>Am ok</th>\n",
       "      <td>3.500000</td>\n",
       "      <td>2</td>\n",
       "    </tr>\n",
       "    <tr>\n",
       "      <th>CEO -- Story so Far</th>\n",
       "      <td>3.000000</td>\n",
       "      <td>3</td>\n",
       "    </tr>\n",
       "    <tr>\n",
       "      <th>DON'T ASK WHY YOU WERE REJECTED</th>\n",
       "      <td>1.750000</td>\n",
       "      <td>4</td>\n",
       "    </tr>\n",
       "    <tr>\n",
       "      <th>EVALUATING STARTUP IDEAS</th>\n",
       "      <td>3.333333</td>\n",
       "      <td>3</td>\n",
       "    </tr>\n",
       "  </tbody>\n",
       "</table>\n",
       "</div>"
      ],
      "text/plain": [
       "                                                    rated_action  \\\n",
       "title                                                              \n",
       "A CHINESE VILLAGER WHO SELLS MORE SOFTWARE DAIL...      1.500000   \n",
       "Am ok                                                   3.500000   \n",
       "CEO -- Story so Far                                     3.000000   \n",
       "DON'T ASK WHY YOU WERE REJECTED                         1.750000   \n",
       "EVALUATING STARTUP IDEAS                                3.333333   \n",
       "\n",
       "                                                    num of ratings  \n",
       "title                                                               \n",
       "A CHINESE VILLAGER WHO SELLS MORE SOFTWARE DAIL...               2  \n",
       "Am ok                                                            2  \n",
       "CEO -- Story so Far                                              3  \n",
       "DON'T ASK WHY YOU WERE REJECTED                                  4  \n",
       "EVALUATING STARTUP IDEAS                                         3  "
      ]
     },
     "execution_count": 26,
     "metadata": {},
     "output_type": "execute_result"
    }
   ],
   "source": [
    "# here, we computed the total number of times an observation occured\n",
    "ratings['num of ratings'] = pd.DataFrame(main.groupby('title')['rated_action'].count())\n",
    "ratings.head()"
   ]
  },
  {
   "cell_type": "code",
   "execution_count": 35,
   "metadata": {
    "collapsed": true
   },
   "outputs": [],
   "source": [
    "# Some data visualization\n",
    "import matplotlib.pyplot as plt\n",
    "import seaborn as sns"
   ]
  },
  {
   "cell_type": "code",
   "execution_count": 29,
   "metadata": {
    "collapsed": true
   },
   "outputs": [],
   "source": [
    "% matplotlib inline"
   ]
  },
  {
   "cell_type": "code",
   "execution_count": 32,
   "metadata": {},
   "outputs": [
    {
     "data": {
      "text/plain": [
       "<matplotlib.axes._subplots.AxesSubplot at 0xc2c3c30c88>"
      ]
     },
     "execution_count": 32,
     "metadata": {},
     "output_type": "execute_result"
    },
    {
     "data": {
      "image/png": "[encoded data removed]",
      "text/plain": [
       "<matplotlib.figure.Figure at 0xc2d3a2afd0>"
      ]
     },
     "metadata": {},
     "output_type": "display_data"
    }
   ],
   "source": [
    "ratings['num of ratings'].hist()    # Obviously, a lot of posts only occured once and a few others occured more than once"
   ]
  },
  {
   "cell_type": "code",
   "execution_count": 33,
   "metadata": {},
   "outputs": [
    {
     "data": {
      "text/plain": [
       "<matplotlib.axes._subplots.AxesSubplot at 0xc2c3cdb4a8>"
      ]
     },
     "execution_count": 33,
     "metadata": {},
     "output_type": "execute_result"
    },
    {
     "data": {
      "image/png": "[encoded data removed]",
      "text/plain": [
       "<matplotlib.figure.Figure at 0xc2c3c75be0>"
      ]
     },
     "metadata": {},
     "output_type": "display_data"
    }
   ],
   "source": [
    "ratings['rated_action'].hist() # Here, we see that the modal rating was 3.0. It appeared majority of users commented on posts they viewed"
   ]
  },
  {
   "cell_type": "code",
   "execution_count": 36,
   "metadata": {},
   "outputs": [
    {
     "name": "stderr",
     "output_type": "stream",
     "text": [
      "C:\\Users\\jjjjjjjjjjjjjjjjjjjj\\Anaconda3\\lib\\site-packages\\scipy\\stats\\stats.py:1633: FutureWarning: Using a non-tuple sequence for multidimensional indexing is deprecated; use `arr[tuple(seq)]` instead of `arr[seq]`. In the future this will be interpreted as an array index, `arr[np.array(seq)]`, which will result either in an error or a different result.\n",
      "  return np.add.reduce(sorted[indexer] * weights, axis=axis) / sumval\n"
     ]
    },
    {
     "data": {
      "text/plain": [
       "<seaborn.axisgrid.JointGrid at 0xc2d7c43e48>"
      ]
     },
     "execution_count": 36,
     "metadata": {},
     "output_type": "execute_result"
    },
    {
     "data": {
      "image/png": "[encoded data removed]",
      "text/plain": [
       "<matplotlib.figure.Figure at 0xc2d7c43ef0>"
      ]
     },
     "metadata": {},
     "output_type": "display_data"
    }
   ],
   "source": [
    "sns.jointplot(x='rated_action',y='num of ratings',data=ratings,alpha=0.5)"
   ]
  },
  {
   "cell_type": "markdown",
   "metadata": {
    "collapsed": true
   },
   "source": [
    "## Recommending Similar Posts"
   ]
  },
  {
   "cell_type": "code",
   "execution_count": 38,
   "metadata": {},
   "outputs": [
    {
     "data": {
      "text/html": [
       "<div>\n",
       "<style>\n",
       "    .dataframe thead tr:only-child th {\n",
       "        text-align: right;\n",
       "    }\n",
       "\n",
       "    .dataframe thead th {\n",
       "        text-align: left;\n",
       "    }\n",
       "\n",
       "    .dataframe tbody tr th {\n",
       "        vertical-align: top;\n",
       "    }\n",
       "</style>\n",
       "<table border=\"1\" class=\"dataframe\">\n",
       "  <thead>\n",
       "    <tr style=\"text-align: right;\">\n",
       "      <th>title</th>\n",
       "      <th>A CHINESE VILLAGER WHO SELLS MORE SOFTWARE DAILY THAN YOU DO</th>\n",
       "      <th>Am ok</th>\n",
       "      <th>CEO -- Story so Far</th>\n",
       "      <th>DON'T ASK WHY YOU WERE REJECTED</th>\n",
       "      <th>EVALUATING STARTUP IDEAS</th>\n",
       "      <th>Good Afternoon People</th>\n",
       "      <th>HOW TO AVOID BEING A ONE-HIT WONDER</th>\n",
       "      <th>Lucid is back</th>\n",
       "      <th>My Internship Journey So Far</th>\n",
       "      <th>My first post</th>\n",
       "      <th>TEst</th>\n",
       "      <th>THE SUNFLOWER</th>\n",
       "      <th>TWO YEARS IN THE TRENCHES BUILDING HOTELS.NG</th>\n",
       "      <th>What you have learned so far</th>\n",
       "      <th>Your face PHP script</th>\n",
       "      <th>second</th>\n",
       "      <th>third</th>\n",
       "      <th>this is mine</th>\n",
       "      <th>with picture</th>\n",
       "    </tr>\n",
       "    <tr>\n",
       "      <th>sender_id</th>\n",
       "      <th></th>\n",
       "      <th></th>\n",
       "      <th></th>\n",
       "      <th></th>\n",
       "      <th></th>\n",
       "      <th></th>\n",
       "      <th></th>\n",
       "      <th></th>\n",
       "      <th></th>\n",
       "      <th></th>\n",
       "      <th></th>\n",
       "      <th></th>\n",
       "      <th></th>\n",
       "      <th></th>\n",
       "      <th></th>\n",
       "      <th></th>\n",
       "      <th></th>\n",
       "      <th></th>\n",
       "      <th></th>\n",
       "    </tr>\n",
       "  </thead>\n",
       "  <tbody>\n",
       "    <tr>\n",
       "      <th>1</th>\n",
       "      <td>NaN</td>\n",
       "      <td>NaN</td>\n",
       "      <td>NaN</td>\n",
       "      <td>2.0</td>\n",
       "      <td>NaN</td>\n",
       "      <td>3.0</td>\n",
       "      <td>2.5</td>\n",
       "      <td>NaN</td>\n",
       "      <td>NaN</td>\n",
       "      <td>NaN</td>\n",
       "      <td>1.0</td>\n",
       "      <td>NaN</td>\n",
       "      <td>2.0</td>\n",
       "      <td>NaN</td>\n",
       "      <td>NaN</td>\n",
       "      <td>NaN</td>\n",
       "      <td>1.0</td>\n",
       "      <td>NaN</td>\n",
       "      <td>NaN</td>\n",
       "    </tr>\n",
       "    <tr>\n",
       "      <th>2</th>\n",
       "      <td>NaN</td>\n",
       "      <td>NaN</td>\n",
       "      <td>NaN</td>\n",
       "      <td>1.5</td>\n",
       "      <td>NaN</td>\n",
       "      <td>NaN</td>\n",
       "      <td>NaN</td>\n",
       "      <td>NaN</td>\n",
       "      <td>NaN</td>\n",
       "      <td>NaN</td>\n",
       "      <td>NaN</td>\n",
       "      <td>NaN</td>\n",
       "      <td>NaN</td>\n",
       "      <td>NaN</td>\n",
       "      <td>3.0</td>\n",
       "      <td>NaN</td>\n",
       "      <td>NaN</td>\n",
       "      <td>2.0</td>\n",
       "      <td>2.333333</td>\n",
       "    </tr>\n",
       "    <tr>\n",
       "      <th>3</th>\n",
       "      <td>NaN</td>\n",
       "      <td>NaN</td>\n",
       "      <td>3.0</td>\n",
       "      <td>NaN</td>\n",
       "      <td>3.0</td>\n",
       "      <td>NaN</td>\n",
       "      <td>NaN</td>\n",
       "      <td>NaN</td>\n",
       "      <td>NaN</td>\n",
       "      <td>3.0</td>\n",
       "      <td>NaN</td>\n",
       "      <td>NaN</td>\n",
       "      <td>NaN</td>\n",
       "      <td>NaN</td>\n",
       "      <td>NaN</td>\n",
       "      <td>2.0</td>\n",
       "      <td>1.5</td>\n",
       "      <td>NaN</td>\n",
       "      <td>2.666667</td>\n",
       "    </tr>\n",
       "    <tr>\n",
       "      <th>4</th>\n",
       "      <td>1.5</td>\n",
       "      <td>NaN</td>\n",
       "      <td>3.0</td>\n",
       "      <td>2.0</td>\n",
       "      <td>3.5</td>\n",
       "      <td>NaN</td>\n",
       "      <td>NaN</td>\n",
       "      <td>NaN</td>\n",
       "      <td>NaN</td>\n",
       "      <td>NaN</td>\n",
       "      <td>2.0</td>\n",
       "      <td>1.5</td>\n",
       "      <td>NaN</td>\n",
       "      <td>NaN</td>\n",
       "      <td>1.0</td>\n",
       "      <td>NaN</td>\n",
       "      <td>NaN</td>\n",
       "      <td>NaN</td>\n",
       "      <td>3.000000</td>\n",
       "    </tr>\n",
       "    <tr>\n",
       "      <th>6</th>\n",
       "      <td>NaN</td>\n",
       "      <td>NaN</td>\n",
       "      <td>NaN</td>\n",
       "      <td>NaN</td>\n",
       "      <td>NaN</td>\n",
       "      <td>NaN</td>\n",
       "      <td>NaN</td>\n",
       "      <td>3.0</td>\n",
       "      <td>NaN</td>\n",
       "      <td>NaN</td>\n",
       "      <td>NaN</td>\n",
       "      <td>NaN</td>\n",
       "      <td>NaN</td>\n",
       "      <td>NaN</td>\n",
       "      <td>NaN</td>\n",
       "      <td>NaN</td>\n",
       "      <td>NaN</td>\n",
       "      <td>NaN</td>\n",
       "      <td>NaN</td>\n",
       "    </tr>\n",
       "  </tbody>\n",
       "</table>\n",
       "</div>"
      ],
      "text/plain": [
       "title      A CHINESE VILLAGER WHO SELLS MORE SOFTWARE DAILY THAN YOU DO  \\\n",
       "sender_id                                                                 \n",
       "1                                                        NaN              \n",
       "2                                                        NaN              \n",
       "3                                                        NaN              \n",
       "4                                                        1.5              \n",
       "6                                                        NaN              \n",
       "\n",
       "title      Am ok  CEO -- Story so Far  DON'T ASK WHY YOU WERE REJECTED  \\\n",
       "sender_id                                                                \n",
       "1            NaN                  NaN                              2.0   \n",
       "2            NaN                  NaN                              1.5   \n",
       "3            NaN                  3.0                              NaN   \n",
       "4            NaN                  3.0                              2.0   \n",
       "6            NaN                  NaN                              NaN   \n",
       "\n",
       "title      EVALUATING STARTUP IDEAS  Good Afternoon People  \\\n",
       "sender_id                                                    \n",
       "1                               NaN                    3.0   \n",
       "2                               NaN                    NaN   \n",
       "3                               3.0                    NaN   \n",
       "4                               3.5                    NaN   \n",
       "6                               NaN                    NaN   \n",
       "\n",
       "title      HOW TO AVOID BEING A ONE-HIT WONDER  Lucid is back  \\\n",
       "sender_id                                                       \n",
       "1                                          2.5            NaN   \n",
       "2                                          NaN            NaN   \n",
       "3                                          NaN            NaN   \n",
       "4                                          NaN            NaN   \n",
       "6                                          NaN            3.0   \n",
       "\n",
       "title      My Internship Journey So Far  My first post  TEst  THE SUNFLOWER  \\\n",
       "sender_id                                                                     \n",
       "1                                   NaN            NaN   1.0            NaN   \n",
       "2                                   NaN            NaN   NaN            NaN   \n",
       "3                                   NaN            3.0   NaN            NaN   \n",
       "4                                   NaN            NaN   2.0            1.5   \n",
       "6                                   NaN            NaN   NaN            NaN   \n",
       "\n",
       "title      TWO YEARS IN THE TRENCHES BUILDING HOTELS.NG  \\\n",
       "sender_id                                                 \n",
       "1                                                   2.0   \n",
       "2                                                   NaN   \n",
       "3                                                   NaN   \n",
       "4                                                   NaN   \n",
       "6                                                   NaN   \n",
       "\n",
       "title      What you have learned so far  Your face PHP script  second  third  \\\n",
       "sender_id                                                                      \n",
       "1                                   NaN                   NaN     NaN    1.0   \n",
       "2                                   NaN                   3.0     NaN    NaN   \n",
       "3                                   NaN                   NaN     2.0    1.5   \n",
       "4                                   NaN                   1.0     NaN    NaN   \n",
       "6                                   NaN                   NaN     NaN    NaN   \n",
       "\n",
       "title      this is mine  with picture  \n",
       "sender_id                              \n",
       "1                   NaN           NaN  \n",
       "2                   2.0      2.333333  \n",
       "3                   NaN      2.666667  \n",
       "4                   NaN      3.000000  \n",
       "6                   NaN           NaN  "
      ]
     },
     "execution_count": 38,
     "metadata": {},
     "output_type": "execute_result"
    }
   ],
   "source": [
    "postmat = main.pivot_table(index='sender_id', columns='title', values='rated_action')\n",
    "postmat.head()   # The pivot table was applied here because it is used to convert the dataframe to matrix form from which we can \n",
    "# assess the correlation between a datapoint and another. Hence our recommender system"
   ]
  },
  {
   "cell_type": "code",
   "execution_count": 39,
   "metadata": {},
   "outputs": [
    {
     "name": "stdout",
     "output_type": "stream",
     "text": [
      "<class 'pandas.core.frame.DataFrame'>\n",
      "Int64Index: 13 entries, 1 to 2191\n",
      "Data columns (total 19 columns):\n",
      "A CHINESE VILLAGER WHO SELLS MORE SOFTWARE DAILY THAN YOU DO    1 non-null float64\n",
      "Am ok                                                           1 non-null float64\n",
      "CEO -- Story so Far                                             3 non-null float64\n",
      "DON'T ASK WHY YOU WERE REJECTED                                 3 non-null float64\n",
      "EVALUATING STARTUP IDEAS                                        2 non-null float64\n",
      "Good Afternoon People                                           1 non-null float64\n",
      "HOW TO AVOID BEING A ONE-HIT WONDER                             1 non-null float64\n",
      "Lucid is back                                                   5 non-null float64\n",
      "My Internship Journey So Far                                    1 non-null float64\n",
      "My first post                                                   1 non-null float64\n",
      "TEst                                                            2 non-null float64\n",
      "THE SUNFLOWER                                                   1 non-null float64\n",
      "TWO YEARS IN THE TRENCHES BUILDING HOTELS.NG                    1 non-null float64\n",
      "What you have learned so far                                    1 non-null float64\n",
      "Your face PHP script                                            3 non-null float64\n",
      "second                                                          1 non-null float64\n",
      "third                                                           2 non-null float64\n",
      "this is mine                                                    2 non-null float64\n",
      "with picture                                                    4 non-null float64\n",
      "dtypes: float64(19)\n",
      "memory usage: 2.0 KB\n"
     ]
    }
   ],
   "source": [
    "postmat.info()"
   ]
  },
  {
   "cell_type": "code",
   "execution_count": 40,
   "metadata": {},
   "outputs": [
    {
     "data": {
      "text/html": [
       "<div>\n",
       "<style>\n",
       "    .dataframe thead tr:only-child th {\n",
       "        text-align: right;\n",
       "    }\n",
       "\n",
       "    .dataframe thead th {\n",
       "        text-align: left;\n",
       "    }\n",
       "\n",
       "    .dataframe tbody tr th {\n",
       "        vertical-align: top;\n",
       "    }\n",
       "</style>\n",
       "<table border=\"1\" class=\"dataframe\">\n",
       "  <thead>\n",
       "    <tr style=\"text-align: right;\">\n",
       "      <th></th>\n",
       "      <th>rated_action</th>\n",
       "      <th>num of ratings</th>\n",
       "    </tr>\n",
       "    <tr>\n",
       "      <th>title</th>\n",
       "      <th></th>\n",
       "      <th></th>\n",
       "    </tr>\n",
       "  </thead>\n",
       "  <tbody>\n",
       "    <tr>\n",
       "      <th>with picture</th>\n",
       "      <td>2.444444</td>\n",
       "      <td>9</td>\n",
       "    </tr>\n",
       "    <tr>\n",
       "      <th>this is mine</th>\n",
       "      <td>2.000000</td>\n",
       "      <td>7</td>\n",
       "    </tr>\n",
       "    <tr>\n",
       "      <th>Lucid is back</th>\n",
       "      <td>3.000000</td>\n",
       "      <td>6</td>\n",
       "    </tr>\n",
       "    <tr>\n",
       "      <th>My first post</th>\n",
       "      <td>3.000000</td>\n",
       "      <td>5</td>\n",
       "    </tr>\n",
       "    <tr>\n",
       "      <th>DON'T ASK WHY YOU WERE REJECTED</th>\n",
       "      <td>1.750000</td>\n",
       "      <td>4</td>\n",
       "    </tr>\n",
       "  </tbody>\n",
       "</table>\n",
       "</div>"
      ],
      "text/plain": [
       "                                 rated_action  num of ratings\n",
       "title                                                        \n",
       "with picture                         2.444444               9\n",
       "this is mine                         2.000000               7\n",
       "Lucid is back                        3.000000               6\n",
       "My first post                        3.000000               5\n",
       "DON'T ASK WHY YOU WERE REJECTED      1.750000               4"
      ]
     },
     "execution_count": 40,
     "metadata": {},
     "output_type": "execute_result"
    }
   ],
   "source": [
    "ratings.sort_values('num of ratings',ascending=False).head()"
   ]
  },
  {
   "cell_type": "code",
   "execution_count": 41,
   "metadata": {},
   "outputs": [
    {
     "data": {
      "text/html": [
       "<div>\n",
       "<style>\n",
       "    .dataframe thead tr:only-child th {\n",
       "        text-align: right;\n",
       "    }\n",
       "\n",
       "    .dataframe thead th {\n",
       "        text-align: left;\n",
       "    }\n",
       "\n",
       "    .dataframe tbody tr th {\n",
       "        vertical-align: top;\n",
       "    }\n",
       "</style>\n",
       "<table border=\"1\" class=\"dataframe\">\n",
       "  <thead>\n",
       "    <tr style=\"text-align: right;\">\n",
       "      <th></th>\n",
       "      <th>rated_action</th>\n",
       "      <th>num of ratings</th>\n",
       "    </tr>\n",
       "    <tr>\n",
       "      <th>title</th>\n",
       "      <th></th>\n",
       "      <th></th>\n",
       "    </tr>\n",
       "  </thead>\n",
       "  <tbody>\n",
       "    <tr>\n",
       "      <th>A CHINESE VILLAGER WHO SELLS MORE SOFTWARE DAILY THAN YOU DO</th>\n",
       "      <td>1.500000</td>\n",
       "      <td>2</td>\n",
       "    </tr>\n",
       "    <tr>\n",
       "      <th>Am ok</th>\n",
       "      <td>3.500000</td>\n",
       "      <td>2</td>\n",
       "    </tr>\n",
       "    <tr>\n",
       "      <th>CEO -- Story so Far</th>\n",
       "      <td>3.000000</td>\n",
       "      <td>3</td>\n",
       "    </tr>\n",
       "    <tr>\n",
       "      <th>DON'T ASK WHY YOU WERE REJECTED</th>\n",
       "      <td>1.750000</td>\n",
       "      <td>4</td>\n",
       "    </tr>\n",
       "    <tr>\n",
       "      <th>EVALUATING STARTUP IDEAS</th>\n",
       "      <td>3.333333</td>\n",
       "      <td>3</td>\n",
       "    </tr>\n",
       "  </tbody>\n",
       "</table>\n",
       "</div>"
      ],
      "text/plain": [
       "                                                    rated_action  \\\n",
       "title                                                              \n",
       "A CHINESE VILLAGER WHO SELLS MORE SOFTWARE DAIL...      1.500000   \n",
       "Am ok                                                   3.500000   \n",
       "CEO -- Story so Far                                     3.000000   \n",
       "DON'T ASK WHY YOU WERE REJECTED                         1.750000   \n",
       "EVALUATING STARTUP IDEAS                                3.333333   \n",
       "\n",
       "                                                    num of ratings  \n",
       "title                                                               \n",
       "A CHINESE VILLAGER WHO SELLS MORE SOFTWARE DAIL...               2  \n",
       "Am ok                                                            2  \n",
       "CEO -- Story so Far                                              3  \n",
       "DON'T ASK WHY YOU WERE REJECTED                                  4  \n",
       "EVALUATING STARTUP IDEAS                                         3  "
      ]
     },
     "execution_count": 41,
     "metadata": {},
     "output_type": "execute_result"
    }
   ],
   "source": [
    "ratings.head()"
   ]
  },
  {
   "cell_type": "code",
   "execution_count": null,
   "metadata": {
    "collapsed": true
   },
   "outputs": [],
   "source": []
  },
  {
   "cell_type": "markdown",
   "metadata": {},
   "source": [
    "#### Let's get our rated_action for the 'with picture' post"
   ]
  },
  {
   "cell_type": "code",
   "execution_count": 43,
   "metadata": {},
   "outputs": [
    {
     "data": {
      "text/plain": [
       "sender_id\n",
       "1         NaN\n",
       "2    2.333333\n",
       "3    2.666667\n",
       "4    3.000000\n",
       "6         NaN\n",
       "Name: with picture, dtype: float64"
      ]
     },
     "execution_count": 43,
     "metadata": {},
     "output_type": "execute_result"
    }
   ],
   "source": [
    "withPicture_user_ratings = postmat['with picture']\n",
    "withPicture_user_ratings.head()"
   ]
  },
  {
   "cell_type": "code",
   "execution_count": 44,
   "metadata": {},
   "outputs": [
    {
     "name": "stderr",
     "output_type": "stream",
     "text": [
      "C:\\Users\\jjjjjjjjjjjjjjjjjjjj\\Anaconda3\\lib\\site-packages\\numpy\\lib\\function_base.py:2526: RuntimeWarning: Degrees of freedom <= 0 for slice\n",
      "  c = cov(x, y, rowvar)\n",
      "C:\\Users\\jjjjjjjjjjjjjjjjjjjj\\Anaconda3\\lib\\site-packages\\numpy\\lib\\function_base.py:2455: RuntimeWarning: divide by zero encountered in true_divide\n",
      "  c *= np.true_divide(1, fact)\n"
     ]
    }
   ],
   "source": [
    "similar_to_withPicture = postmat.corrwith(withPicture_user_ratings)"
   ]
  },
  {
   "cell_type": "code",
   "execution_count": 45,
   "metadata": {},
   "outputs": [
    {
     "data": {
      "text/html": [
       "<div>\n",
       "<style>\n",
       "    .dataframe thead tr:only-child th {\n",
       "        text-align: right;\n",
       "    }\n",
       "\n",
       "    .dataframe thead th {\n",
       "        text-align: left;\n",
       "    }\n",
       "\n",
       "    .dataframe tbody tr th {\n",
       "        vertical-align: top;\n",
       "    }\n",
       "</style>\n",
       "<table border=\"1\" class=\"dataframe\">\n",
       "  <thead>\n",
       "    <tr style=\"text-align: right;\">\n",
       "      <th></th>\n",
       "      <th>Correlation</th>\n",
       "    </tr>\n",
       "    <tr>\n",
       "      <th>title</th>\n",
       "      <th></th>\n",
       "    </tr>\n",
       "  </thead>\n",
       "  <tbody>\n",
       "    <tr>\n",
       "      <th>DON'T ASK WHY YOU WERE REJECTED</th>\n",
       "      <td>1.0</td>\n",
       "    </tr>\n",
       "    <tr>\n",
       "      <th>EVALUATING STARTUP IDEAS</th>\n",
       "      <td>1.0</td>\n",
       "    </tr>\n",
       "    <tr>\n",
       "      <th>Your face PHP script</th>\n",
       "      <td>-1.0</td>\n",
       "    </tr>\n",
       "    <tr>\n",
       "      <th>with picture</th>\n",
       "      <td>1.0</td>\n",
       "    </tr>\n",
       "  </tbody>\n",
       "</table>\n",
       "</div>"
      ],
      "text/plain": [
       "                                 Correlation\n",
       "title                                       \n",
       "DON'T ASK WHY YOU WERE REJECTED          1.0\n",
       "EVALUATING STARTUP IDEAS                 1.0\n",
       "Your face PHP script                    -1.0\n",
       "with picture                             1.0"
      ]
     },
     "execution_count": 45,
     "metadata": {},
     "output_type": "execute_result"
    }
   ],
   "source": [
    "corr_withPicture = pd.DataFrame(similar_to_withPicture,columns=['Correlation'])\n",
    "corr_withPicture.dropna(inplace=True)\n",
    "corr_withPicture.head()"
   ]
  },
  {
   "cell_type": "code",
   "execution_count": 46,
   "metadata": {},
   "outputs": [
    {
     "data": {
      "text/html": [
       "<div>\n",
       "<style>\n",
       "    .dataframe thead tr:only-child th {\n",
       "        text-align: right;\n",
       "    }\n",
       "\n",
       "    .dataframe thead th {\n",
       "        text-align: left;\n",
       "    }\n",
       "\n",
       "    .dataframe tbody tr th {\n",
       "        vertical-align: top;\n",
       "    }\n",
       "</style>\n",
       "<table border=\"1\" class=\"dataframe\">\n",
       "  <thead>\n",
       "    <tr style=\"text-align: right;\">\n",
       "      <th></th>\n",
       "      <th>Correlation</th>\n",
       "    </tr>\n",
       "    <tr>\n",
       "      <th>title</th>\n",
       "      <th></th>\n",
       "    </tr>\n",
       "  </thead>\n",
       "  <tbody>\n",
       "    <tr>\n",
       "      <th>DON'T ASK WHY YOU WERE REJECTED</th>\n",
       "      <td>1.0</td>\n",
       "    </tr>\n",
       "    <tr>\n",
       "      <th>EVALUATING STARTUP IDEAS</th>\n",
       "      <td>1.0</td>\n",
       "    </tr>\n",
       "    <tr>\n",
       "      <th>with picture</th>\n",
       "      <td>1.0</td>\n",
       "    </tr>\n",
       "    <tr>\n",
       "      <th>Your face PHP script</th>\n",
       "      <td>-1.0</td>\n",
       "    </tr>\n",
       "  </tbody>\n",
       "</table>\n",
       "</div>"
      ],
      "text/plain": [
       "                                 Correlation\n",
       "title                                       \n",
       "DON'T ASK WHY YOU WERE REJECTED          1.0\n",
       "EVALUATING STARTUP IDEAS                 1.0\n",
       "with picture                             1.0\n",
       "Your face PHP script                    -1.0"
      ]
     },
     "execution_count": 46,
     "metadata": {},
     "output_type": "execute_result"
    }
   ],
   "source": [
    "corr_withPicture.sort_values('Correlation',ascending=False).head()"
   ]
  },
  {
   "cell_type": "code",
   "execution_count": 47,
   "metadata": {},
   "outputs": [
    {
     "data": {
      "text/html": [
       "<div>\n",
       "<style>\n",
       "    .dataframe thead tr:only-child th {\n",
       "        text-align: right;\n",
       "    }\n",
       "\n",
       "    .dataframe thead th {\n",
       "        text-align: left;\n",
       "    }\n",
       "\n",
       "    .dataframe tbody tr th {\n",
       "        vertical-align: top;\n",
       "    }\n",
       "</style>\n",
       "<table border=\"1\" class=\"dataframe\">\n",
       "  <thead>\n",
       "    <tr style=\"text-align: right;\">\n",
       "      <th></th>\n",
       "      <th>Correlation</th>\n",
       "      <th>num of ratings</th>\n",
       "    </tr>\n",
       "    <tr>\n",
       "      <th>title</th>\n",
       "      <th></th>\n",
       "      <th></th>\n",
       "    </tr>\n",
       "  </thead>\n",
       "  <tbody>\n",
       "    <tr>\n",
       "      <th>DON'T ASK WHY YOU WERE REJECTED</th>\n",
       "      <td>1.0</td>\n",
       "      <td>4</td>\n",
       "    </tr>\n",
       "    <tr>\n",
       "      <th>EVALUATING STARTUP IDEAS</th>\n",
       "      <td>1.0</td>\n",
       "      <td>3</td>\n",
       "    </tr>\n",
       "    <tr>\n",
       "      <th>Your face PHP script</th>\n",
       "      <td>-1.0</td>\n",
       "      <td>4</td>\n",
       "    </tr>\n",
       "    <tr>\n",
       "      <th>with picture</th>\n",
       "      <td>1.0</td>\n",
       "      <td>9</td>\n",
       "    </tr>\n",
       "  </tbody>\n",
       "</table>\n",
       "</div>"
      ],
      "text/plain": [
       "                                 Correlation  num of ratings\n",
       "title                                                       \n",
       "DON'T ASK WHY YOU WERE REJECTED          1.0               4\n",
       "EVALUATING STARTUP IDEAS                 1.0               3\n",
       "Your face PHP script                    -1.0               4\n",
       "with picture                             1.0               9"
      ]
     },
     "execution_count": 47,
     "metadata": {},
     "output_type": "execute_result"
    }
   ],
   "source": [
    "corr_withPicture = corr_withPicture.join(ratings['num of ratings'])\n",
    "corr_withPicture.head()"
   ]
  },
  {
   "cell_type": "code",
   "execution_count": 48,
   "metadata": {},
   "outputs": [
    {
     "data": {
      "text/html": [
       "<div>\n",
       "<style>\n",
       "    .dataframe thead tr:only-child th {\n",
       "        text-align: right;\n",
       "    }\n",
       "\n",
       "    .dataframe thead th {\n",
       "        text-align: left;\n",
       "    }\n",
       "\n",
       "    .dataframe tbody tr th {\n",
       "        vertical-align: top;\n",
       "    }\n",
       "</style>\n",
       "<table border=\"1\" class=\"dataframe\">\n",
       "  <thead>\n",
       "    <tr style=\"text-align: right;\">\n",
       "      <th></th>\n",
       "      <th>Correlation</th>\n",
       "      <th>num of ratings</th>\n",
       "    </tr>\n",
       "    <tr>\n",
       "      <th>title</th>\n",
       "      <th></th>\n",
       "      <th></th>\n",
       "    </tr>\n",
       "  </thead>\n",
       "  <tbody>\n",
       "    <tr>\n",
       "      <th>DON'T ASK WHY YOU WERE REJECTED</th>\n",
       "      <td>1.0</td>\n",
       "      <td>4</td>\n",
       "    </tr>\n",
       "    <tr>\n",
       "      <th>with picture</th>\n",
       "      <td>1.0</td>\n",
       "      <td>9</td>\n",
       "    </tr>\n",
       "    <tr>\n",
       "      <th>Your face PHP script</th>\n",
       "      <td>-1.0</td>\n",
       "      <td>4</td>\n",
       "    </tr>\n",
       "  </tbody>\n",
       "</table>\n",
       "</div>"
      ],
      "text/plain": [
       "                                 Correlation  num of ratings\n",
       "title                                                       \n",
       "DON'T ASK WHY YOU WERE REJECTED          1.0               4\n",
       "with picture                             1.0               9\n",
       "Your face PHP script                    -1.0               4"
      ]
     },
     "execution_count": 48,
     "metadata": {},
     "output_type": "execute_result"
    }
   ],
   "source": [
    "corr_withPicture[corr_withPicture['num of ratings']>3].sort_values('Correlation',ascending=False).head()"
   ]
  },
  {
   "cell_type": "code",
   "execution_count": 58,
   "metadata": {},
   "outputs": [
    {
     "name": "stdout",
     "output_type": "stream",
     "text": [
      "Posts Title that are highly correlated to 'With Picture' are: \n",
      "                              title\n",
      "1  DON'T ASK WHY YOU WERE REJECTED\n",
      "2         EVALUATING STARTUP IDEAS\n",
      "3             Your face PHP script\n",
      "4                     with picture\n"
     ]
    }
   ],
   "source": [
    "print(\"Posts Title that are highly correlated to 'With Picture' in ascending order are: \\n\", pd.DataFrame(corr_withPicture.index, index=[1,2,3,4]))"
   ]
  },
  {
   "cell_type": "markdown",
   "metadata": {},
   "source": [
    "## To Test:"
   ]
  },
  {
   "cell_type": "code",
   "execution_count": 90,
   "metadata": {},
   "outputs": [
    {
     "name": "stdout",
     "output_type": "stream",
     "text": [
      "Enter post title (Exactly as is): Your face PHP script\n"
     ]
    }
   ],
   "source": [
    "to_test = input(\"Enter post title (Exactly as is): \")\n",
    "to_test = str(to_test)"
   ]
  },
  {
   "cell_type": "code",
   "execution_count": 91,
   "metadata": {},
   "outputs": [],
   "source": [
    "testdata_user_ratings = postmat[to_test]\n",
    "# testdata_user_ratings.head()"
   ]
  },
  {
   "cell_type": "code",
   "execution_count": 92,
   "metadata": {},
   "outputs": [
    {
     "name": "stderr",
     "output_type": "stream",
     "text": [
      "C:\\Users\\jjjjjjjjjjjjjjjjjjjj\\Anaconda3\\lib\\site-packages\\numpy\\lib\\function_base.py:2526: RuntimeWarning: Degrees of freedom <= 0 for slice\n",
      "  c = cov(x, y, rowvar)\n",
      "C:\\Users\\jjjjjjjjjjjjjjjjjjjj\\Anaconda3\\lib\\site-packages\\numpy\\lib\\function_base.py:2455: RuntimeWarning: divide by zero encountered in true_divide\n",
      "  c *= np.true_divide(1, fact)\n"
     ]
    }
   ],
   "source": [
    "similar_to_testdata = postmat.corrwith(testdata_user_ratings)"
   ]
  },
  {
   "cell_type": "code",
   "execution_count": 93,
   "metadata": {
    "collapsed": true
   },
   "outputs": [],
   "source": [
    "corr_testdata = pd.DataFrame(similar_to_testdata,columns=['Correlation'])\n",
    "corr_testdata.dropna(inplace=True)"
   ]
  },
  {
   "cell_type": "code",
   "execution_count": 97,
   "metadata": {},
   "outputs": [
    {
     "name": "stdout",
     "output_type": "stream",
     "text": [
      "<<------------------------------------------------------------------------------>>\n",
      "Similar Posts to ' Your face PHP script ' in ascending order are: \n",
      "<<------------------------------------------------------------------------------>>\n",
      "\n",
      "                             title\n",
      "0  DON'T ASK WHY YOU WERE REJECTED\n",
      "1             Your face PHP script\n",
      "2                     with picture\n"
     ]
    }
   ],
   "source": [
    "print(\"<<------------------------------------------------------------------------------>>\")\n",
    "print(\"Similar Posts to '\",to_test,\"' in ascending order are: \")\n",
    "print(\"<<------------------------------------------------------------------------------>>\\n\")\n",
    "print(pd.DataFrame(corr_testdata.index))"
   ]
  },
  {
   "cell_type": "code",
   "execution_count": null,
   "metadata": {
    "collapsed": true
   },
   "outputs": [],
   "source": []
  },
  {
   "cell_type": "markdown",
   "metadata": {},
   "source": [
    "**Observation:** The recommendation method is really basic and would have performed extremely well if the provided data was structured as should be, \n",
    "we would have been able to narrow down recommendations to posts with at least 10-15 user ratings.\n",
    "\n",
    "- A lot went in to the data analysis and we discovered that majority of the data were missing (NaN) and there was no other option other than dropping them, by the time we were able to get a well cleaned data, we were left with less than 50 rows of data. Hopefully we can get a more structured data for recommendation.\n",
    "\n",
    "**Usage:** \n",
    "\n",
    "    - Locate the *To Test:* breakpoint and then enter the presumed post title in the textbox after running that cell (Ensure you enter the title of a post currently in our database (exactly as is)).\n",
    "\n",
    "Testing the recommender involves having the test input present in the entire dataset (imagine users being recommended similar posts, after the user click on a particular post, then other recommendations will be provided). Our testing here presumes the user has a post he/she is reading, the system will them recommend posts based on similarity/correlation with the current post. "
   ]
  },
  {
   "cell_type": "code",
   "execution_count": null,
   "metadata": {
    "collapsed": true
   },
   "outputs": [],
   "source": []
  }
 ],
 "metadata": {
  "kernelspec": {
   "display_name": "Python 3",
   "language": "python",
   "name": "python3"
  },
  "language_info": {
   "codemirror_mode": {
    "name": "ipython",
    "version": 3
   },
   "file_extension": ".py",
   "mimetype": "text/x-python",
   "name": "python",
   "nbconvert_exporter": "python",
   "pygments_lexer": "ipython3",
   "version": "3.6.2"
  }
 },
 "nbformat": 4,
 "nbformat_minor": 2
}
