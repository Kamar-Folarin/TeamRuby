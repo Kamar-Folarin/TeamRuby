{
 "cells": [
  {
   "cell_type": "markdown",
   "metadata": {},
   "source": [
    "___\n",
    "TEAM RUBY (MACHINE LEARNING TRACK)\n",
    "___\n",
    "# Recommender System for Lucid.blog\n",
    "\n",
    "This is the code notebook for Recommender System built for lucid. \n",
    "\n",
    "In this notebook, we will focus on providing a basic recommendation system by suggesting posts that are most similar to a particular individual's interests, in this case, posts and bio. \n",
    "\n",
    "- Let's get started with the data preparation\n",
    "\n",
    "## Import Libraries"
   ]
  },
  {
   "cell_type": "code",
   "execution_count": 1,
   "metadata": {
    "collapsed": true
   },
   "outputs": [],
   "source": [
    "import numpy as np\n",
    "import pandas as pd"
   ]
  },
  {
   "cell_type": "markdown",
   "metadata": {},
   "source": [
    "## Get the Data"
   ]
  },
  {
   "cell_type": "markdown",
   "metadata": {},
   "source": [
    "### 1. User Data"
   ]
  },
  {
   "cell_type": "code",
   "execution_count": 2,
   "metadata": {
    "collapsed": true
   },
   "outputs": [],
   "source": [
    "columns = ['user_id', 'fullname', 'username', 'email', 'image', 'email_provider', 'provider_id', 'password', 'remember_token', 'created_at', 'updated_at', 'short_bio']\n",
    "users = pd.read_csv('lucid_dataset/users.csv', names=columns)\n",
    "users.drop(['fullname', 'email', 'email_provider', 'image', 'provider_id', 'password', 'remember_token', 'created_at', 'updated_at'], axis=1, inplace=True)"
   ]
  },
  {
   "cell_type": "code",
   "execution_count": 3,
   "metadata": {},
   "outputs": [
    {
     "data": {
      "text/html": [
       "<div>\n",
       "<style>\n",
       "    .dataframe thead tr:only-child th {\n",
       "        text-align: right;\n",
       "    }\n",
       "\n",
       "    .dataframe thead th {\n",
       "        text-align: left;\n",
       "    }\n",
       "\n",
       "    .dataframe tbody tr th {\n",
       "        vertical-align: top;\n",
       "    }\n",
       "</style>\n",
       "<table border=\"1\" class=\"dataframe\">\n",
       "  <thead>\n",
       "    <tr style=\"text-align: right;\">\n",
       "      <th></th>\n",
       "      <th>user_id</th>\n",
       "      <th>username</th>\n",
       "      <th>short_bio</th>\n",
       "    </tr>\n",
       "  </thead>\n",
       "  <tbody>\n",
       "    <tr>\n",
       "      <th>0</th>\n",
       "      <td>1</td>\n",
       "      <td>eniayomi</td>\n",
       "      <td>Software Developer | DevOPs Engineer</td>\n",
       "    </tr>\n",
       "    <tr>\n",
       "      <th>1</th>\n",
       "      <td>2</td>\n",
       "      <td>DMatrix</td>\n",
       "      <td>Web Developer</td>\n",
       "    </tr>\n",
       "  </tbody>\n",
       "</table>\n",
       "</div>"
      ],
      "text/plain": [
       "   user_id  username                             short_bio\n",
       "0        1  eniayomi  Software Developer | DevOPs Engineer\n",
       "1        2   DMatrix                         Web Developer"
      ]
     },
     "execution_count": 3,
     "metadata": {},
     "output_type": "execute_result"
    }
   ],
   "source": [
    "users.head(2)"
   ]
  },
  {
   "cell_type": "markdown",
   "metadata": {},
   "source": [
    "### 2. Following/Follower Data"
   ]
  },
  {
   "cell_type": "code",
   "execution_count": 4,
   "metadata": {
    "collapsed": true
   },
   "outputs": [],
   "source": [
    "fol_col = ['follow_t', 'follower_id', 'status']"
   ]
  },
  {
   "cell_type": "code",
   "execution_count": 6,
   "metadata": {},
   "outputs": [
    {
     "data": {
      "text/html": [
       "<div>\n",
       "<style>\n",
       "    .dataframe thead tr:only-child th {\n",
       "        text-align: right;\n",
       "    }\n",
       "\n",
       "    .dataframe thead th {\n",
       "        text-align: left;\n",
       "    }\n",
       "\n",
       "    .dataframe tbody tr th {\n",
       "        vertical-align: top;\n",
       "    }\n",
       "</style>\n",
       "<table border=\"1\" class=\"dataframe\">\n",
       "  <thead>\n",
       "    <tr style=\"text-align: right;\">\n",
       "      <th></th>\n",
       "      <th>follow_t</th>\n",
       "    </tr>\n",
       "  </thead>\n",
       "  <tbody>\n",
       "    <tr>\n",
       "      <th>0</th>\n",
       "      <td>3</td>\n",
       "    </tr>\n",
       "    <tr>\n",
       "      <th>1</th>\n",
       "      <td>6</td>\n",
       "    </tr>\n",
       "    <tr>\n",
       "      <th>2</th>\n",
       "      <td>3</td>\n",
       "    </tr>\n",
       "    <tr>\n",
       "      <th>3</th>\n",
       "      <td>3</td>\n",
       "    </tr>\n",
       "    <tr>\n",
       "      <th>4</th>\n",
       "      <td>7</td>\n",
       "    </tr>\n",
       "  </tbody>\n",
       "</table>\n",
       "</div>"
      ],
      "text/plain": [
       "   follow_t\n",
       "0         3\n",
       "1         6\n",
       "2         3\n",
       "3         3\n",
       "4         7"
      ]
     },
     "execution_count": 6,
     "metadata": {},
     "output_type": "execute_result"
    }
   ],
   "source": [
    "following = pd.read_csv('lucid_dataset/following.csv', names=fol_col)\n",
    "following.drop(['status', 'follower_id'], axis=1, inplace=True)\n",
    "following.head(5)"
   ]
  },
  {
   "cell_type": "markdown",
   "metadata": {},
   "source": [
    "### 3. Posts Data"
   ]
  },
  {
   "cell_type": "code",
   "execution_count": 7,
   "metadata": {},
   "outputs": [
    {
     "data": {
      "text/html": [
       "<div>\n",
       "<style>\n",
       "    .dataframe thead tr:only-child th {\n",
       "        text-align: right;\n",
       "    }\n",
       "\n",
       "    .dataframe thead th {\n",
       "        text-align: left;\n",
       "    }\n",
       "\n",
       "    .dataframe tbody tr th {\n",
       "        vertical-align: top;\n",
       "    }\n",
       "</style>\n",
       "<table border=\"1\" class=\"dataframe\">\n",
       "  <thead>\n",
       "    <tr style=\"text-align: right;\">\n",
       "      <th></th>\n",
       "      <th>post_id</th>\n",
       "      <th>user_id</th>\n",
       "      <th>content</th>\n",
       "      <th>tags</th>\n",
       "    </tr>\n",
       "  </thead>\n",
       "  <tbody>\n",
       "    <tr>\n",
       "      <th>0</th>\n",
       "      <td>1</td>\n",
       "      <td>2077</td>\n",
       "      <td>I learnt how to use the table tag as i have us...</td>\n",
       "      <td>NaN</td>\n",
       "    </tr>\n",
       "    <tr>\n",
       "      <th>1</th>\n",
       "      <td>2</td>\n",
       "      <td>1719</td>\n",
       "      <td>I am on this journey with start.ng, and here ...</td>\n",
       "      <td>Technology</td>\n",
       "    </tr>\n",
       "  </tbody>\n",
       "</table>\n",
       "</div>"
      ],
      "text/plain": [
       "   post_id  user_id                                            content  \\\n",
       "0        1     2077  I learnt how to use the table tag as i have us...   \n",
       "1        2     1719   I am on this journey with start.ng, and here ...   \n",
       "\n",
       "         tags  \n",
       "0         NaN  \n",
       "1  Technology  "
      ]
     },
     "execution_count": 7,
     "metadata": {},
     "output_type": "execute_result"
    }
   ],
   "source": [
    "post_col = ['post_id', 'user_id', 'title', 'content', 'tags', 'slug', 'created_at', 'updated_at', 'image', 'status_id', 'action',\n",
    "           'p_id']\n",
    "posts = pd.read_csv('lucid_dataset/posts.csv', names=post_col)\n",
    "posts.drop(['title', 'slug', 'created_at', 'updated_at', 'image', 'status_id', 'action', 'p_id'], axis=1, inplace=True)\n",
    "posts.head(2)"
   ]
  },
  {
   "cell_type": "markdown",
   "metadata": {},
   "source": [
    "### 4. Notification Data"
   ]
  },
  {
   "cell_type": "code",
   "execution_count": 8,
   "metadata": {},
   "outputs": [
    {
     "data": {
      "text/html": [
       "<div>\n",
       "<style>\n",
       "    .dataframe thead tr:only-child th {\n",
       "        text-align: right;\n",
       "    }\n",
       "\n",
       "    .dataframe thead th {\n",
       "        text-align: left;\n",
       "    }\n",
       "\n",
       "    .dataframe tbody tr th {\n",
       "        vertical-align: top;\n",
       "    }\n",
       "</style>\n",
       "<table border=\"1\" class=\"dataframe\">\n",
       "  <thead>\n",
       "    <tr style=\"text-align: right;\">\n",
       "      <th></th>\n",
       "      <th>notification_freq</th>\n",
       "    </tr>\n",
       "  </thead>\n",
       "  <tbody>\n",
       "    <tr>\n",
       "      <th>0</th>\n",
       "      <td>7</td>\n",
       "    </tr>\n",
       "    <tr>\n",
       "      <th>1</th>\n",
       "      <td>4</td>\n",
       "    </tr>\n",
       "  </tbody>\n",
       "</table>\n",
       "</div>"
      ],
      "text/plain": [
       "   notification_freq\n",
       "0                  7\n",
       "1                  4"
      ]
     },
     "execution_count": 8,
     "metadata": {},
     "output_type": "execute_result"
    }
   ],
   "source": [
    "noti_col = ['id', 'post_id', 'parent_comment_id', 'comment', 'sender_id', 'notification_freq', 'status', 'action', 'type', 'created_at', 'updated_at']\n",
    "notifications = pd.read_csv('lucid_dataset/notifications.csv', names=noti_col)\n",
    "notifications.drop(['id', 'post_id', 'parent_comment_id', 'comment', 'sender_id', 'status', 'action', 'type', 'created_at', 'updated_at'], axis=1, inplace=True)\n",
    "notifications.head(2)"
   ]
  },
  {
   "cell_type": "markdown",
   "metadata": {},
   "source": [
    "### Combining all 4 dataframes"
   ]
  },
  {
   "cell_type": "code",
   "execution_count": 19,
   "metadata": {
    "collapsed": true
   },
   "outputs": [],
   "source": [
    "df = pd.merge(users, posts, on='user_id')"
   ]
  },
  {
   "cell_type": "code",
   "execution_count": 20,
   "metadata": {
    "collapsed": true
   },
   "outputs": [],
   "source": [
    "df = df.join(following, how='right')"
   ]
  },
  {
   "cell_type": "code",
   "execution_count": 21,
   "metadata": {
    "collapsed": true
   },
   "outputs": [],
   "source": [
    "df = df.join(notifications, how='right')"
   ]
  },
  {
   "cell_type": "code",
   "execution_count": 22,
   "metadata": {
    "collapsed": true
   },
   "outputs": [],
   "source": [
    "df.tags.fillna('Technology', inplace=True)"
   ]
  },
  {
   "cell_type": "code",
   "execution_count": 23,
   "metadata": {
    "collapsed": true
   },
   "outputs": [],
   "source": [
    "df.dropna(inplace=True)"
   ]
  },
  {
   "cell_type": "code",
   "execution_count": 24,
   "metadata": {},
   "outputs": [
    {
     "name": "stdout",
     "output_type": "stream",
     "text": [
      "<class 'pandas.core.frame.DataFrame'>\n",
      "Int64Index: 154 entries, 0 to 189\n",
      "Data columns (total 8 columns):\n",
      "user_id              154 non-null float64\n",
      "username             154 non-null object\n",
      "short_bio            154 non-null object\n",
      "post_id              154 non-null float64\n",
      "content              154 non-null object\n",
      "tags                 154 non-null object\n",
      "follow_t             154 non-null int64\n",
      "notification_freq    154 non-null int64\n",
      "dtypes: float64(2), int64(2), object(4)\n",
      "memory usage: 10.8+ KB\n"
     ]
    }
   ],
   "source": [
    "df.info()"
   ]
  },
  {
   "cell_type": "markdown",
   "metadata": {},
   "source": [
    "### Computing Number of Followers and total Notifications per User"
   ]
  },
  {
   "cell_type": "code",
   "execution_count": 25,
   "metadata": {
    "collapsed": true
   },
   "outputs": [],
   "source": [
    "df['no_of_followers'] = df.groupby('user_id', as_index=False)['follow_t'].transform(lambda s: s.count())\n",
    "df.drop('follow_t', axis=1, inplace=True)"
   ]
  },
  {
   "cell_type": "code",
   "execution_count": 26,
   "metadata": {},
   "outputs": [
    {
     "name": "stdout",
     "output_type": "stream",
     "text": [
      "<class 'pandas.core.frame.DataFrame'>\n",
      "Int64Index: 154 entries, 0 to 189\n",
      "Data columns (total 8 columns):\n",
      "user_id              154 non-null float64\n",
      "username             154 non-null object\n",
      "short_bio            154 non-null object\n",
      "post_id              154 non-null float64\n",
      "content              154 non-null object\n",
      "tags                 154 non-null object\n",
      "notification_freq    154 non-null int64\n",
      "no_of_followers      154 non-null int64\n",
      "dtypes: float64(2), int64(2), object(4)\n",
      "memory usage: 10.8+ KB\n"
     ]
    }
   ],
   "source": [
    "df.info()"
   ]
  },
  {
   "cell_type": "code",
   "execution_count": 27,
   "metadata": {},
   "outputs": [
    {
     "data": {
      "text/html": [
       "<div>\n",
       "<style>\n",
       "    .dataframe thead tr:only-child th {\n",
       "        text-align: right;\n",
       "    }\n",
       "\n",
       "    .dataframe thead th {\n",
       "        text-align: left;\n",
       "    }\n",
       "\n",
       "    .dataframe tbody tr th {\n",
       "        vertical-align: top;\n",
       "    }\n",
       "</style>\n",
       "<table border=\"1\" class=\"dataframe\">\n",
       "  <thead>\n",
       "    <tr style=\"text-align: right;\">\n",
       "      <th></th>\n",
       "      <th>user_id</th>\n",
       "      <th>username</th>\n",
       "      <th>short_bio</th>\n",
       "      <th>post_id</th>\n",
       "      <th>content</th>\n",
       "      <th>tags</th>\n",
       "      <th>notification_freq</th>\n",
       "      <th>no_of_followers</th>\n",
       "    </tr>\n",
       "  </thead>\n",
       "  <tbody>\n",
       "    <tr>\n",
       "      <th>0</th>\n",
       "      <td>1.0</td>\n",
       "      <td>eniayomi</td>\n",
       "      <td>Software Developer | DevOPs Engineer</td>\n",
       "      <td>280.0</td>\n",
       "      <td>Yh it did</td>\n",
       "      <td>Technology</td>\n",
       "      <td>7</td>\n",
       "      <td>4</td>\n",
       "    </tr>\n",
       "    <tr>\n",
       "      <th>1</th>\n",
       "      <td>1.0</td>\n",
       "      <td>eniayomi</td>\n",
       "      <td>Software Developer | DevOPs Engineer</td>\n",
       "      <td>994.0</td>\n",
       "      <td>First</td>\n",
       "      <td>Health</td>\n",
       "      <td>4</td>\n",
       "      <td>4</td>\n",
       "    </tr>\n",
       "    <tr>\n",
       "      <th>2</th>\n",
       "      <td>1.0</td>\n",
       "      <td>eniayomi</td>\n",
       "      <td>Software Developer | DevOPs Engineer</td>\n",
       "      <td>995.0</td>\n",
       "      <td>second![](/storage/1/images/img-ga0dlp954u.png)</td>\n",
       "      <td>Technology</td>\n",
       "      <td>45</td>\n",
       "      <td>4</td>\n",
       "    </tr>\n",
       "    <tr>\n",
       "      <th>3</th>\n",
       "      <td>1.0</td>\n",
       "      <td>eniayomi</td>\n",
       "      <td>Software Developer | DevOPs Engineer</td>\n",
       "      <td>996.0</td>\n",
       "      <td>third![](/storage/1/images/img-hta9olnjij.png)...</td>\n",
       "      <td>Technology</td>\n",
       "      <td>4</td>\n",
       "      <td>4</td>\n",
       "    </tr>\n",
       "    <tr>\n",
       "      <th>4</th>\n",
       "      <td>2.0</td>\n",
       "      <td>DMatrix</td>\n",
       "      <td>Web Developer</td>\n",
       "      <td>981.0</td>\n",
       "      <td>\\`html\\`\\n\\n  \\n\\n\\`&lt;!DOCTYPE html&gt;\\n\\n&lt;html l...</td>\n",
       "      <td>Technology</td>\n",
       "      <td>4</td>\n",
       "      <td>12</td>\n",
       "    </tr>\n",
       "  </tbody>\n",
       "</table>\n",
       "</div>"
      ],
      "text/plain": [
       "   user_id  username                             short_bio  post_id  \\\n",
       "0      1.0  eniayomi  Software Developer | DevOPs Engineer    280.0   \n",
       "1      1.0  eniayomi  Software Developer | DevOPs Engineer    994.0   \n",
       "2      1.0  eniayomi  Software Developer | DevOPs Engineer    995.0   \n",
       "3      1.0  eniayomi  Software Developer | DevOPs Engineer    996.0   \n",
       "4      2.0   DMatrix                         Web Developer    981.0   \n",
       "\n",
       "                                             content        tags  \\\n",
       "0                                          Yh it did  Technology   \n",
       "1                                              First      Health   \n",
       "2    second![](/storage/1/images/img-ga0dlp954u.png)  Technology   \n",
       "3  third![](/storage/1/images/img-hta9olnjij.png)...  Technology   \n",
       "4  \\`html\\`\\n\\n  \\n\\n\\`<!DOCTYPE html>\\n\\n<html l...  Technology   \n",
       "\n",
       "   notification_freq  no_of_followers  \n",
       "0                  7                4  \n",
       "1                  4                4  \n",
       "2                 45                4  \n",
       "3                  4                4  \n",
       "4                  4               12  "
      ]
     },
     "execution_count": 27,
     "metadata": {},
     "output_type": "execute_result"
    }
   ],
   "source": [
    "df.head()"
   ]
  },
  {
   "cell_type": "code",
   "execution_count": null,
   "metadata": {
    "collapsed": true
   },
   "outputs": [],
   "source": []
  },
  {
   "cell_type": "code",
   "execution_count": null,
   "metadata": {
    "collapsed": true
   },
   "outputs": [],
   "source": []
  }
 ],
 "metadata": {
  "kernelspec": {
   "display_name": "Python 3",
   "language": "python",
   "name": "python3"
  },
  "language_info": {
   "codemirror_mode": {
    "name": "ipython",
    "version": 3
   },
   "file_extension": ".py",
   "mimetype": "text/x-python",
   "name": "python",
   "nbconvert_exporter": "python",
   "pygments_lexer": "ipython3",
   "version": "3.6.2"
  }
 },
 "nbformat": 4,
 "nbformat_minor": 2
}
